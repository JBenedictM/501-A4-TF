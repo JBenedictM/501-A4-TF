{
  "nbformat": 4,
  "nbformat_minor": 0,
  "metadata": {
    "colab": {
      "name": "501_A4_p3.ipynb",
      "provenance": [],
      "collapsed_sections": [],
      "toc_visible": true,
      "include_colab_link": true
    },
    "kernelspec": {
      "name": "python3",
      "display_name": "Python 3"
    },
    "accelerator": "GPU"
  },
  "cells": [
    {
      "cell_type": "markdown",
      "metadata": {
        "id": "view-in-github",
        "colab_type": "text"
      },
      "source": [
        "<a href=\"https://colab.research.google.com/github/JBenedictM/501-A4-TF/blob/master/501_A4_p3.ipynb\" target=\"_parent\"><img src=\"https://colab.research.google.com/assets/colab-badge.svg\" alt=\"Open In Colab\"/></a>"
      ]
    },
    {
      "cell_type": "code",
      "metadata": {
        "id": "4t6-j9Iz4P8n",
        "colab_type": "code",
        "colab": {}
      },
      "source": [
        "try:\n",
        "  # %tensorflow_version only exists in Colab.\n",
        "  %tensorflow_version 2.x\n",
        "except Exception:\n",
        "  pass"
      ],
      "execution_count": 0,
      "outputs": []
    },
    {
      "cell_type": "code",
      "metadata": {
        "id": "ZkJqrCo95K7W",
        "colab_type": "code",
        "outputId": "854f0c95-f2fa-455e-d969-658d9de029bf",
        "colab": {
          "base_uri": "https://localhost:8080/",
          "height": 34
        }
      },
      "source": [
        "from google.colab import drive\n",
        "drive.mount('/content/drive')\n",
        "data_path = \"/content/drive/My Drive/heart.csv\"\n",
        "train_path = \"/content/drive/My Drive/heart_train.csv\"\n",
        "test_path = \"/content/drive/My Drive/heart_test.csv\""
      ],
      "execution_count": 26,
      "outputs": [
        {
          "output_type": "stream",
          "text": [
            "Drive already mounted at /content/drive; to attempt to forcibly remount, call drive.mount(\"/content/drive\", force_remount=True).\n"
          ],
          "name": "stdout"
        }
      ]
    },
    {
      "cell_type": "markdown",
      "metadata": {
        "id": "mRjtrGjxn3SD",
        "colab_type": "text"
      },
      "source": [
        "# Create Train and Test csv files\n",
        "Splits Heart.csv into 80% training data and 20% testing data"
      ]
    },
    {
      "cell_type": "code",
      "metadata": {
        "id": "iCBKlQbomK0D",
        "colab_type": "code",
        "colab": {}
      },
      "source": [
        "import pandas as pd\n",
        "from sklearn.model_selection import train_test_split\n",
        "import sys\n",
        "\n",
        "data = pd.read_csv(data_path)\n",
        "y_chd = data.chd\n",
        "X = data.drop(\"chd\", axis=1)\n",
        "X = X.drop(\"row.names\", axis=1)\n",
        "#data = data.drop(\"\", axis=1)\n",
        "#print(X)\n",
        "\n",
        "x_train, x_test, y_train, y_test = train_test_split(data, y_chd, test_size=0.2)\n",
        "\n",
        "#print(x_train.shape)\n",
        "#print(x_train)\n",
        "\n",
        "#print(x_test.shape)\n",
        "#print(x_test)\n",
        "\n",
        "x_train.to_csv(\"/content/drive/My Drive/heart_train.csv\", encoding=\"utf-8\", sep='\\t', index=False)\n",
        "x_test.to_csv(\"/content/drive/My Drive/heart_test.csv\", encoding=\"utf-8\", sep='\\t', index=False)"
      ],
      "execution_count": 0,
      "outputs": []
    },
    {
      "cell_type": "markdown",
      "metadata": {
        "id": "fJEY5TfLMNAb",
        "colab_type": "text"
      },
      "source": [
        "# Load and Process Data"
      ]
    },
    {
      "cell_type": "code",
      "metadata": {
        "id": "cS6egxKiML57",
        "colab_type": "code",
        "colab": {}
      },
      "source": [
        "from __future__ import absolute_import, division, print_function, unicode_literals\n",
        "import functools\n",
        "\n",
        "import numpy as np\n",
        "import tensorflow as tf\n",
        "import pandas as pd\n",
        "\n",
        "# load csv data\n",
        "def get_dataset(file_path, **kwargs):\n",
        "    dataset = tf.data.experimental.make_csv_dataset(\n",
        "        data_path,\n",
        "        label_name=PREDICT_COLUMN,\n",
        "        batch_size=10,\n",
        "        na_value=\"?\",\n",
        "        num_epochs=1,\n",
        "        ignore_errors=True,\n",
        "        **kwargs)\n",
        "    \n",
        "    return dataset\n",
        "\n",
        "def show_batch(dataset):\n",
        "    for batch, label in dataset.take(1):\n",
        "        for key, value in batch.items():\n",
        "            print(\"{:20s}: {}\".format(key, value.numpy()))\n",
        "\n",
        "def pack(features, label):\n",
        "    return tf.stack(list(features.values()), axis=-1), label\n",
        "\n"
      ],
      "execution_count": 0,
      "outputs": []
    },
    {
      "cell_type": "code",
      "metadata": {
        "id": "fuMly7cyx1A5",
        "colab_type": "code",
        "colab": {}
      },
      "source": [
        "class PackNumericFeatures(object):\n",
        "    def __init__(self, names):\n",
        "        self.names = names\n",
        "\n",
        "      \n",
        "    def __call__(self, features, labels):\n",
        "        numeric_features = [features.pop(name) for name in self.names]\n",
        "        numeric_features = [tf.cast(feat, tf.float32) for feat in numeric_features]\n",
        "        numeric_features = tf.stack(numeric_features, axis=-1)\n",
        "        features[\"numeric\"] = numeric_features\n",
        "\n",
        "        return features, labels\n"
      ],
      "execution_count": 0,
      "outputs": []
    },
    {
      "cell_type": "code",
      "metadata": {
        "id": "6L1KiMyFxvny",
        "colab_type": "code",
        "colab": {
          "base_uri": "https://localhost:8080/",
          "height": 225
        },
        "outputId": "7ef2f74e-e084-443e-b30e-d3b9239d4490"
      },
      "source": [
        "# instaniate training and testing data\n",
        "PREDICT_COLUMN = \"chd\"\n",
        "PREDICT_LABELs = [0, 1]\n",
        "\n",
        "\n",
        "NAME_COLUMN = \"row.names\"\n",
        "SELECT_COLUMNS = [NAME_COLUMN] + [\"sbp\", \"tobacco\", \"ldl\", \"adiposity\", \"famhist\", \"typea\", \"obesity\", \"alcohol\", \"age\"] + [PREDICT_COLUMN]\n",
        "NUMERIC_COLUMNS = [NAME_COLUMN] + [\"sbp\", \"tobacco\", \"ldl\", \"adiposity\", \"typea\", \"obesity\", \"alcohol\", \"age\"]\n",
        "SELECT_COLUMNS_NUM = NUMERIC_COLUMNS + [PREDICT_COLUMN]\n",
        "DEFAULT_NUM = [0.0, 0.0, 0.0, 0.0, 0.0, 0.0, 0.0, 0.0, 0.0, 0.0]\n",
        "\n",
        "raw_train_data = get_dataset(train_path, select_columns=SELECT_COLUMNS)\n",
        "raw_test_data = get_dataset(test_path, select_columns=SELECT_COLUMNS)\n",
        "\n",
        "#show_batch(raw_train_data)\n",
        "#print()\n",
        "#show_batch(raw_test_data)\n",
        "\n",
        "temp_train_numeric = get_dataset(train_path, select_columns=SELECT_COLUMNS_NUM, column_defaults=DEFAULT_NUM)\n",
        "#show_batch(temp_train_numeric)\n",
        "\n",
        "example_batch, labels_batch = next(iter(temp_train_numeric))\n",
        "\n",
        "packed_dataset = temp_train_numeric.map(pack)\n",
        "\n",
        "#for features, label in packed_dataset.take(1):\n",
        " #   print(features.numpy())\n",
        "  #  print()\n",
        "   # print(label.numpy())\n",
        "\n",
        "packed_train_data = raw_train_data.map(PackNumericFeatures(NUMERIC_COLUMNS))\n",
        "packed_test_data = raw_test_data.map(PackNumericFeatures(NUMERIC_COLUMNS))\n",
        "show_batch(packed_train_data)\n",
        "\n",
        "# enumerate data\n"
      ],
      "execution_count": 46,
      "outputs": [
        {
          "output_type": "stream",
          "text": [
            "famhist             : [b'Absent' b'Absent' b'Present' b'Absent' b'Present' b'Absent' b'Absent'\n",
            " b'Absent' b'Present' b'Absent']\n",
            "numeric             : [[ 36.   122.     4.26   4.44  13.04  57.    19.49  48.99  28.  ]\n",
            " [ 70.   122.     0.     3.37  16.1   67.    21.06   0.    32.  ]\n",
            " [449.   130.     0.     1.88  12.51  52.    20.28   0.    17.  ]\n",
            " [313.   114.     9.6    2.51  29.18  49.    25.67  40.63  46.  ]\n",
            " [370.   126.     3.4    4.87  15.16  65.    22.01  11.11  38.  ]\n",
            " [178.   120.     0.     2.42  16.66  46.    20.16   0.    17.  ]\n",
            " [ 93.   143.     0.46   2.4   22.87  62.    29.17  15.43  29.  ]\n",
            " [ 84.   148.    12.2    3.79  34.15  57.    26.38  14.4   57.  ]\n",
            " [169.   126.     0.54   4.39  21.13  45.    25.99   0.    25.  ]\n",
            " [ 34.   126.     8.75   6.53  34.02  49.    30.25   0.    41.  ]]\n"
          ],
          "name": "stdout"
        }
      ]
    },
    {
      "cell_type": "code",
      "metadata": {
        "id": "4pnFWgBvudHA",
        "colab_type": "code",
        "colab": {}
      },
      "source": [
        ""
      ],
      "execution_count": 0,
      "outputs": []
    }
  ]
}